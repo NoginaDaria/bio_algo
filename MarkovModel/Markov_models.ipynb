{
 "cells": [
  {
   "cell_type": "code",
   "execution_count": 1,
   "metadata": {},
   "outputs": [
    {
     "name": "stderr",
     "output_type": "stream",
     "text": [
      "/Users/daria/anaconda3/lib/python3.7/site-packages/statsmodels/tools/_testing.py:19: FutureWarning: pandas.util.testing is deprecated. Use the functions in the public API at pandas.testing instead.\n",
      "  import pandas.util.testing as tm\n"
     ]
    }
   ],
   "source": [
    "import numpy as np\n",
    "import seaborn as sns\n",
    "import pandas as pd\n",
    "import markov\n",
    "import evaluate_markov"
   ]
  },
  {
   "cell_type": "code",
   "execution_count": 2,
   "metadata": {},
   "outputs": [],
   "source": [
    "n = 1000\n",
    "l = 4000\n",
    "file = '/Users/daria/Downloads/sequence (2).fasta' # Escherichia coli str. K-12 substr. MG1655"
   ]
  },
  {
   "cell_type": "code",
   "execution_count": 3,
   "metadata": {},
   "outputs": [
    {
     "name": "stderr",
     "output_type": "stream",
     "text": [
      "100%|██████████| 1000/1000 [00:00<00:00, 8172.67it/s]\n",
      "100%|██████████| 1000/1000 [00:00<00:00, 4645.42it/s]\n",
      "100%|██████████| 1000/1000 [00:00<00:00, 9644.87it/s]\n",
      "100%|██████████| 4/4 [00:00<00:00, 13421.77it/s]\n",
      "100%|██████████| 1000/1000 [00:00<00:00, 3541.74it/s]\n",
      "100%|██████████| 1000/1000 [00:00<00:00, 10404.42it/s]\n",
      "100%|██████████| 4/4 [00:00<00:00, 23431.87it/s]\n",
      "100%|██████████| 1000/1000 [00:00<00:00, 2794.34it/s]\n",
      "100%|██████████| 1000/1000 [00:00<00:00, 9519.98it/s]\n",
      "100%|██████████| 4/4 [00:00<00:00, 17848.10it/s]\n"
     ]
    }
   ],
   "source": [
    "model1 = markov.Bernoully()\n",
    "model2 = markov.Markov1st()\n",
    "model3 = markov.Markov2nd()\n",
    "model4 = markov.Markov3rd()\n",
    "model1.fit(n=n, l=l, file=file)\n",
    "model2.fit(n=n, l=l, file=file)\n",
    "model3.fit(n=n, l=l, file=file)\n",
    "model4.fit(n=n, l=l, file=file)"
   ]
  },
  {
   "cell_type": "code",
   "execution_count": 4,
   "metadata": {
    "scrolled": true
   },
   "outputs": [
    {
     "name": "stdout",
     "output_type": "stream",
     "text": [
      "Bernoully: \n",
      "AIC: 11093133.9\tBIC: 11093133.9\n",
      "Markov1st: \n",
      "AIC: 3745355.39\tBIC: 3745433.91\n",
      "Markov2nd: \n",
      "AIC: 6592885.89\tBIC: 6593514.08\n",
      "Markov3rd: \n",
      "AIC: 11388380.8\tBIC: 11392149.96\n"
     ]
    }
   ],
   "source": [
    "AIC_scores, BIC_scores = {}, {}\n",
    "for model_name, model in zip(['Bernoully', 'Markov1st', 'Markov2nd', 'Markov3rd'],\n",
    "                             [model1, model2, model3, model4]):\n",
    "\n",
    "    AIC_score, BIC_score = evaluate_markov.calc_model_score(model, file, n, l)\n",
    "    print(f'{model_name}: \\nAIC: {round(AIC_score,2)}\\tBIC: {round(BIC_score, 2)}')\n",
    "    AIC_scores[model_name] = AIC_score\n",
    "    BIC_scores[model_name] = BIC_score"
   ]
  },
  {
   "cell_type": "code",
   "execution_count": 5,
   "metadata": {},
   "outputs": [],
   "source": [
    "def plot_scores(scores):\n",
    "    scores['index'] = [0]\n",
    "    scores = pd.DataFrame.from_dict(scores).T.reset_index()\n",
    "    scores.iloc[:,1] = [scores.iloc[i,1] / scores.iloc[0,1] for i in range(scores.shape[0] - 1)] + [0]\n",
    "    sns.catplot(data=scores.iloc[:-1, :], x='index', y=0, kind='bar')"
   ]
  },
  {
   "cell_type": "code",
   "execution_count": 6,
   "metadata": {},
   "outputs": [
    {
     "data": {
      "image/png": "[encoded data removed]",
      "text/plain": [
       "<Figure size 360x360 with 1 Axes>"
      ]
     },
     "metadata": {
      "needs_background": "light"
     },
     "output_type": "display_data"
    }
   ],
   "source": [
    "plot_scores(AIC_scores)"
   ]
  },
  {
   "cell_type": "code",
   "execution_count": 7,
   "metadata": {},
   "outputs": [
    {
     "data": {
      "image/png": "[encoded data removed]",
      "text/plain": [
       "<Figure size 360x360 with 1 Axes>"
      ]
     },
     "metadata": {
      "needs_background": "light"
     },
     "output_type": "display_data"
    }
   ],
   "source": [
    "plot_scores(BIC_scores)"
   ]
  },
  {
   "cell_type": "markdown",
   "metadata": {},
   "source": [
    "Попробуем другую последовательность: Rickettsia prowazekii str. Chernikova"
   ]
  },
  {
   "cell_type": "code",
   "execution_count": 8,
   "metadata": {},
   "outputs": [],
   "source": [
    "n = 1000\n",
    "l = 1000\n",
    "file = '/Users/daria/Downloads/sequence (3).fasta'"
   ]
  },
  {
   "cell_type": "code",
   "execution_count": 9,
   "metadata": {},
   "outputs": [
    {
     "name": "stderr",
     "output_type": "stream",
     "text": [
      "100%|██████████| 1000/1000 [00:00<00:00, 8544.37it/s]\n",
      "100%|██████████| 1000/1000 [00:00<00:00, 4912.51it/s]\n",
      "100%|██████████| 1000/1000 [00:00<00:00, 11110.77it/s]\n",
      "100%|██████████| 4/4 [00:00<00:00, 11554.56it/s]\n",
      "100%|██████████| 1000/1000 [00:00<00:00, 3635.74it/s]\n",
      "100%|██████████| 1000/1000 [00:00<00:00, 10070.29it/s]\n",
      "100%|██████████| 4/4 [00:00<00:00, 13946.15it/s]\n",
      "100%|██████████| 1000/1000 [00:00<00:00, 2784.13it/s]\n",
      "100%|██████████| 1000/1000 [00:00<00:00, 9838.00it/s]\n",
      "100%|██████████| 4/4 [00:00<00:00, 15753.25it/s]\n"
     ]
    }
   ],
   "source": [
    "model1 = markov.Bernoully()\n",
    "model2 = markov.Markov1st()\n",
    "model3 = markov.Markov2nd()\n",
    "model4 = markov.Markov3rd()\n",
    "model1.fit(n=n, l=l, file=file)\n",
    "model2.fit(n=n, l=l, file=file)\n",
    "model3.fit(n=n, l=l, file=file)\n",
    "model4.fit(n=n, l=l, file=file)"
   ]
  },
  {
   "cell_type": "code",
   "execution_count": 10,
   "metadata": {},
   "outputs": [
    {
     "name": "stdout",
     "output_type": "stream",
     "text": [
      "Bernoully: \n",
      "AIC: 2590952.7\tBIC: 2590952.7\n",
      "Markov1st: \n",
      "AIC: 951955.43\tBIC: 952033.95\n",
      "Markov2nd: \n",
      "AIC: 673855.38\tBIC: 674483.57\n",
      "Markov3rd: \n",
      "AIC: 2340756.28\tBIC: 2344525.44\n"
     ]
    }
   ],
   "source": [
    "AIC_scores, BIC_scores = {}, {}\n",
    "for model_name, model in zip(['Bernoully', 'Markov1st', 'Markov2nd', 'Markov3rd'],\n",
    "                             [model1, model2, model3, model4]):\n",
    "\n",
    "    AIC_score, BIC_score = evaluate_markov.calc_model_score(model, file, n, l)\n",
    "    print(f'{model_name}: \\nAIC: {round(AIC_score,2)}\\tBIC: {round(BIC_score, 2)}')\n",
    "    AIC_scores[model_name] = AIC_score\n",
    "    BIC_scores[model_name] = BIC_score"
   ]
  },
  {
   "cell_type": "code",
   "execution_count": 11,
   "metadata": {},
   "outputs": [
    {
     "data": {
      "image/png": "[encoded data removed]",
      "text/plain": [
       "<Figure size 360x360 with 1 Axes>"
      ]
     },
     "metadata": {
      "needs_background": "light"
     },
     "output_type": "display_data"
    }
   ],
   "source": [
    "plot_scores(AIC_scores)"
   ]
  },
  {
   "cell_type": "code",
   "execution_count": 12,
   "metadata": {},
   "outputs": [
    {
     "data": {
      "image/png": "[encoded data removed]",
      "text/plain": [
       "<Figure size 360x360 with 1 Axes>"
      ]
     },
     "metadata": {
      "needs_background": "light"
     },
     "output_type": "display_data"
    }
   ],
   "source": [
    "plot_scores(BIC_scores)"
   ]
  },
  {
   "cell_type": "code",
   "execution_count": null,
   "metadata": {},
   "outputs": [],
   "source": []
  }
 ],
 "metadata": {
  "kernelspec": {
   "display_name": "Python 3",
   "language": "python",
   "name": "python3"
  },
  "language_info": {
   "codemirror_mode": {
    "name": "ipython",
    "version": 3
   },
   "file_extension": ".py",
   "mimetype": "text/x-python",
   "name": "python",
   "nbconvert_exporter": "python",
   "pygments_lexer": "ipython3",
   "version": "3.7.3"
  }
 },
 "nbformat": 4,
 "nbformat_minor": 2
}
